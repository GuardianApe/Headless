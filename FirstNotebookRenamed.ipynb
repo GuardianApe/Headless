{
  "metadata": {
    "language_info": {
      "codemirror_mode": {
        "name": "python",
        "version": 3
      },
      "file_extension": ".py",
      "mimetype": "text/x-python",
      "name": "python",
      "nbconvert_exporter": "python",
      "pygments_lexer": "ipython3",
      "version": "3.8"
    },
    "kernelspec": {
      "name": "python",
      "display_name": "Python (Pyodide)",
      "language": "python"
    }
  },
  "nbformat_minor": 4,
  "nbformat": 4,
  "cells": [
    {
      "cell_type": "code",
      "source": "print(\"hello world\")",
      "metadata": {
        "trusted": true
      },
      "execution_count": 1,
      "outputs": [
        {
          "name": "stdout",
          "text": "hello world\n",
          "output_type": "stream"
        }
      ]
    },
    {
      "cell_type": "markdown",
      "source": "*this is markdown* \n",
      "metadata": {}
    },
    {
      "cell_type": "code",
      "source": "for i in range(0, 10):\n    print(\"In think these Jupyter notebooks really run and display the python code (or whatever Kernel chosen) imediately and right below the code itself which seems super awesome for documentation\")\n    ",
      "metadata": {
        "trusted": true
      },
      "execution_count": 2,
      "outputs": [
        {
          "name": "stdout",
          "text": "In think these Jupyter notebooks really run and display the python code (or whatever Kernel chosen) imediately and right below the code itself which seems super awesome for documentation\nIn think these Jupyter notebooks really run and display the python code (or whatever Kernel chosen) imediately and right below the code itself which seems super awesome for documentation\nIn think these Jupyter notebooks really run and display the python code (or whatever Kernel chosen) imediately and right below the code itself which seems super awesome for documentation\nIn think these Jupyter notebooks really run and display the python code (or whatever Kernel chosen) imediately and right below the code itself which seems super awesome for documentation\nIn think these Jupyter notebooks really run and display the python code (or whatever Kernel chosen) imediately and right below the code itself which seems super awesome for documentation\nIn think these Jupyter notebooks really run and display the python code (or whatever Kernel chosen) imediately and right below the code itself which seems super awesome for documentation\nIn think these Jupyter notebooks really run and display the python code (or whatever Kernel chosen) imediately and right below the code itself which seems super awesome for documentation\nIn think these Jupyter notebooks really run and display the python code (or whatever Kernel chosen) imediately and right below the code itself which seems super awesome for documentation\nIn think these Jupyter notebooks really run and display the python code (or whatever Kernel chosen) imediately and right below the code itself which seems super awesome for documentation\nIn think these Jupyter notebooks really run and display the python code (or whatever Kernel chosen) imediately and right below the code itself which seems super awesome for documentation\n",
          "output_type": "stream"
        }
      ]
    },
    {
      "cell_type": "markdown",
      "source": "# This is the largest heading\n\n[Read this](https://en.wikipedia.org/wiki/Holomorphic_function)\n\nHere is the graphic from the page: ![Funktionentheorie](https://upload.wikimedia.org/wikipedia/commons/3/33/Gamma_abs_3D.png)",
      "metadata": {}
    },
    {
      "cell_type": "markdown",
      "source": "### Here's a table of the most respectable people:\n\n| Rank | Name |\n|------|------|\n| 1 | Lionel Messi |\n| 2 | Leonhard Euler |\n| 3 | Napoleon |\n| 4 | Brad Pitt |",
      "metadata": {}
    },
    {
      "cell_type": "code",
      "source": "",
      "metadata": {},
      "execution_count": null,
      "outputs": []
    }
  ]
}