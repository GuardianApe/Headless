{
 "cells": [
  {
   "cell_type": "markdown",
   "metadata": {},
   "source": [
    "<center>\n",
    "    <img src=\"https://cf-courses-data.s3.us.cloud-object-storage.appdomain.cloud/IBMDeveloperSkillsNetwork-DS0105EN-SkillsNetwork/labs/Module2/images/SN_web_lightmode.png\" width=\"300\" alt=\"cognitiveclass.ai logo\">\n",
    "</center>\n"
   ]
  },
  {
   "cell_type": "markdown",
   "metadata": {},
   "source": [
    "#### Add your code below following the instructions given in the course\n"
   ]
  },
  {
   "cell_type": "markdown",
   "metadata": {},
   "source": [
    "# Data Science Tools and Ecosystem"
   ]
  },
  {
   "cell_type": "code",
   "execution_count": null,
   "metadata": {},
   "outputs": [],
   "source": [
    "This notebook summarizes Data Science Tools and Ecosystems as part of an assignment of a course in Coursera."
   ]
  },
  {
   "cell_type": "markdown",
   "metadata": {},
   "source": [
    "**Objectives:**\n",
    "\n",
    "- List popular Data Science languages\n",
    "- List some of their available libraries\n",
    "- cre\n",
    "\n",
    "\n",
    "Some of the most popular languages that Data Scientists use are:\n",
    "1. Python with all its packages and libraries (great for machine learning)\n",
    "2. R for statistics and visualization (great for labeled data) \n",
    "3. Julia (these three are responsible for the name Jupyter)\n",
    "4. SQL for working with labeled data sets\n",
    "\n",
    "\n",
    "Some of the commonly used libraries used by Data Scientists include:\n",
    "\n",
    "1. Numpy (Python)\n",
    "2. Scipy (Python)\n",
    "3. Pandas (Python)\n",
    "4. ggplot2 (R)\n",
    "\n",
    "\n",
    "| Data Science Tools |\n",
    "|-------------------------|\n",
    "| R-Studio |\n",
    "| Anaconda | \n",
    "| Project Jupyter |\n",
    "| Apache |\n",
    "\n",
    "\n",
    "### Below are a few examples of evaluating arithmetic expressions in Python:"
   ]
  },
  {
   "cell_type": "code",
   "execution_count": 3,
   "metadata": {
    "tags": []
   },
   "outputs": [
    {
     "name": "stdout",
     "output_type": "stream",
     "text": [
      "17\n"
     ]
    }
   ],
   "source": [
    "#This simple arithmetic expression first multiplies two integers then adds another\n",
    "multadd = (3*4)+5\n",
    "print("
   ]
  },
  {
   "cell_type": "code",
   "execution_count": 14,
   "metadata": {
    "tags": []
   },
   "outputs": [
    {
     "name": "stdout",
     "output_type": "stream",
     "text": [
      "3 hours and 20 minutes.\n"
     ]
    }
   ],
   "source": [
    "#This will convert 200 minutes into full hours and rest minutes.\n",
    "def min_to_hour(m):\n",
    "    h = m//60\n",
    "    n = m - (h*60)\n",
    "    time = \"{} hours and {} minutes.\".format(h, n)\n",
    "    return time\n",
    "\n",
    "print(min_to_hour(200))"
   ]
  },
  {
   "cell_type": "markdown",
   "metadata": {},
   "source": []
  }
 ],
 "metadata": {
  "kernelspec": {
   "display_name": "Python",
   "language": "python",
   "name": "conda-env-python-py"
  },
  "language_info": {
   "codemirror_mode": {
    "name": "ipython",
    "version": 3
   },
   "file_extension": ".py",
   "mimetype": "text/x-python",
   "name": "python",
   "nbconvert_exporter": "python",
   "pygments_lexer": "ipython3",
   "version": "3.7.12"
  }
 },
 "nbformat": 4,
 "nbformat_minor": 4
}
